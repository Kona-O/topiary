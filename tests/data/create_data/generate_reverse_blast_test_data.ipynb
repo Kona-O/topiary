{
 "cells": [
  {
   "cell_type": "code",
   "execution_count": null,
   "id": "d0000b2e-eeff-4d98-82fb-8250a2da475f",
   "metadata": {},
   "outputs": [],
   "source": [
    "import pandas as pd\n",
    "import numpy as np\n",
    "import topiary\n",
    "import re, copy, os"
   ]
  },
  {
   "cell_type": "code",
   "execution_count": null,
   "id": "ed3c9f7d-3d96-439b-8e78-e319d6358a8b",
   "metadata": {},
   "outputs": [],
   "source": [
    "# Run basic _prepare_for_blast on \"good-df.csv\"\n",
    "\n",
    "df = pd.read_csv(\"../good-df.csv\")\n",
    "call_dict={\"LY96\":[\"lymphocyte antigen 96\",\"esop1\"],\n",
    "          \"LY86\":re.compile(\"lymphocyte antigen 86\")}\n",
    "local_rev_blast_db=\"GRCh38\"\n",
    "\n",
    "default_kwargs = {\"local_rev_blast_db\":None,\n",
    "                  \"ncbi_rev_blast_db\":None,\n",
    "                  \"ignorecase\":True,\n",
    "                  \"max_del_best\":100,\n",
    "                  \"min_call_prob\":0.95,\n",
    "                  \"use_start_end\":True}\n",
    "\n",
    "kwargs = copy.deepcopy(default_kwargs)\n",
    "kwargs[\"df\"] = df\n",
    "kwargs[\"call_dict\"] = call_dict\n",
    "kwargs[\"local_rev_blast_db\"] = local_rev_blast_db\n",
    "\n",
    "out = topiary.ncbi._reverse_blast._prepare_for_blast(**kwargs)\n",
    "out_df, sequence_list, patterns, out_max_del_best, out_min_call_prob = out\n"
   ]
  },
  {
   "cell_type": "code",
   "execution_count": null,
   "id": "8da0cb2c-c28d-4d06-b0a4-90b45ec9d5ba",
   "metadata": {},
   "outputs": [],
   "source": [
    "# Run local reverse blast. Assumes presence of GRCh38 blastdb in the\n",
    "# working directory. Writes out local_hits_dfs/hit_{i}.csv with the \n",
    "# blast hits for each sequence in good-df.csv\n",
    "local_rev_blast_db=\"GRCh38\"\n",
    "default_kwargs = {\"local_rev_blast_db\":None,\n",
    "                  \"ncbi_rev_blast_db\":None,\n",
    "                  \"ncbi_taxid\":None,\n",
    "                  \"hitlist_size\":50,\n",
    "                  \"e_value_cutoff\":0.01,\n",
    "                  \"gapcosts\":(11,1),\n",
    "                  \"local_num_threads\":-1}\n",
    "\n",
    "# Run local blast\n",
    "kwargs = copy.deepcopy(default_kwargs)\n",
    "kwargs[\"sequence_list\"] = sequence_list\n",
    "kwargs[\"local_rev_blast_db\"] = local_rev_blast_db\n",
    "\n",
    "\n",
    "local_hit_dfs = topiary.ncbi._reverse_blast._run_blast(**kwargs)\n",
    "\n",
    "try:\n",
    "    os.mkdir(\"local_hit_dfs\")\n",
    "except FileExistsError:\n",
    "    pass\n",
    "\n",
    "for i, d in enumerate(local_hit_dfs):\n",
    "    d.to_csv(os.path.join(\"local_hit_dfs\",f\"hit_{i}.csv\"))\n"
   ]
  },
  {
   "cell_type": "code",
   "execution_count": null,
   "id": "c331a368-954f-4709-9a54-e9150f9076be",
   "metadata": {},
   "outputs": [],
   "source": [
    "# Run ncbi reverse blast against nr. Writes out ncbi_hits_dfs/hit_{i}.csv\n",
    "# with the blast hits for each sequence in good-df.csv\n",
    "\n",
    "ncbi_rev_blast_db = \"nr\"\n",
    "ncbi_taxid = 9606\n",
    "default_kwargs = {\"local_rev_blast_db\":None,\n",
    "                  \"ncbi_rev_blast_db\":None,\n",
    "                  \"ncbi_taxid\":None,\n",
    "                  \"hitlist_size\":50,\n",
    "                  \"e_value_cutoff\":0.01,\n",
    "                  \"gapcosts\":(11,1),\n",
    "                  \"local_num_threads\":-1}\n",
    "\n",
    "# Run local blast\n",
    "kwargs = copy.deepcopy(default_kwargs)\n",
    "kwargs[\"sequence_list\"] = sequence_list\n",
    "kwargs[\"ncbi_rev_blast_db\"] = ncbi_rev_blast_db\n",
    "kwargs[\"ncbi_taxid\"] = ncbi_taxid\n",
    "\n",
    "ncbi_hit_dfs = topiary.ncbi._reverse_blast._run_blast(**kwargs)\n",
    "\n",
    "try:\n",
    "    os.mkdir(\"ncbi_hit_dfs\")\n",
    "except FileExistsError:\n",
    "    pass\n",
    "\n",
    "for i, d in enumerate(ncbi_hit_dfs):\n",
    "    d.to_csv(os.path.join(\"ncbi_hit_dfs\",f\"hit_{i}.csv\"))"
   ]
  },
  {
   "cell_type": "code",
   "execution_count": null,
   "id": "74816286-84af-4fe6-9f54-c264dfff51fd",
   "metadata": {},
   "outputs": [],
   "source": [
    "df = df\n",
    "hit_dfs_list = [local_hit_dfs,ncbi_hit_dfs]\n",
    "patterns = patterns\n",
    "ncbi_rev_blast_db_list = [None,\"nr\"]\n",
    "\n",
    "ncbi_taxid = 9606\n",
    "default_kwargs = {\"max_del_best\":10,\n",
    "                  \"min_call_prob\":0.95,\n",
    "                  \"ncbi_rev_blast_db\":None}\n",
    "\n",
    "for i in range(2):\n",
    "\n",
    "    kwargs = copy.deepcopy(default_kwargs)\n",
    "    kwargs[\"df\"] = df\n",
    "    kwargs[\"hit_dfs\"] = hit_dfs_list[i]\n",
    "    kwargs[\"patterns\"] = patterns\n",
    "    kwargs[\"ncbi_rev_blast_db\"] = ncbi_rev_blast_db_list[i]\n",
    "\n",
    "    out_df = topiary.ncbi._reverse_blast._make_reverse_blast_calls(**kwargs)\n"
   ]
  },
  {
   "cell_type": "code",
   "execution_count": null,
   "id": "93c64013-b165-46f6-9b57-124920bfdd1c",
   "metadata": {},
   "outputs": [],
   "source": []
  }
 ],
 "metadata": {
  "kernelspec": {
   "display_name": "Python 3",
   "language": "python",
   "name": "python3"
  },
  "language_info": {
   "codemirror_mode": {
    "name": "ipython",
    "version": 3
   },
   "file_extension": ".py",
   "mimetype": "text/x-python",
   "name": "python",
   "nbconvert_exporter": "python",
   "pygments_lexer": "ipython3",
   "version": "3.9.12"
  }
 },
 "nbformat": 4,
 "nbformat_minor": 5
}
