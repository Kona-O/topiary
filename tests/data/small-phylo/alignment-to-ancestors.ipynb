{
 "cells": [
  {
   "cell_type": "code",
   "execution_count": null,
   "id": "a59330c6-4eb6-4fe3-b16b-6c2cd42fed54",
   "metadata": {},
   "outputs": [],
   "source": [
    "import topiary"
   ]
  },
  {
   "cell_type": "code",
   "execution_count": null,
   "id": "c66eeed0-0606-4619-82d9-f6f3ab5095c8",
   "metadata": {},
   "outputs": [],
   "source": [
    "topiary.find_best_model(df=\"initial-input/dataframe.csv\",\n",
    "                        calc_dir=\"00_find-model\",\n",
    "                        seed=12345,\n",
    "                        model_matrices=[\"LG\",\"JTT\"],\n",
    "                        model_rates=None,\n",
    "                        model_freqs=None,\n",
    "                        model_invariant=None,\n",
    "                        overwrite=True)"
   ]
  },
  {
   "cell_type": "code",
   "execution_count": null,
   "id": "ec097145-0c89-4d47-9629-05759e67bb10",
   "metadata": {},
   "outputs": [],
   "source": [
    "topiary.generate_ml_tree(prev_calculation=\"00_find-model\",\n",
    "                         calc_dir=\"01_gene-tree\",\n",
    "                         overwrite=True)"
   ]
  },
  {
   "cell_type": "code",
   "execution_count": null,
   "id": "312bef0f-61ae-4aa1-8615-62ea782378b6",
   "metadata": {},
   "outputs": [],
   "source": [
    "topiary.generate_ancestors(prev_calculation=\"01_gene-tree/\",\n",
    "                           calc_dir=\"02_gene-tree-ancestors\",\n",
    "                           overwrite=True)"
   ]
  },
  {
   "cell_type": "code",
   "execution_count": null,
   "id": "3c1de4d1-06bb-40e9-b132-46f9bb45859f",
   "metadata": {},
   "outputs": [],
   "source": [
    "topiary.reconcile(prev_calculation=\"02_gene-tree-ancestors/\",\n",
    "                  calc_dir=\"03_reconciled-tree\",\n",
    "                  species_tree=\"initial-input/species-tree.newick\",\n",
    "                  num_threads=1,\n",
    "                  overwrite=True)"
   ]
  },
  {
   "cell_type": "code",
   "execution_count": null,
   "id": "805a8321-9345-41c0-882d-df54bdd592ba",
   "metadata": {},
   "outputs": [],
   "source": [
    "topiary.generate_ancestors(prev_calculation=\"03_reconciled-tree/\",\n",
    "                           calc_dir=\"04_reconciled-tree-ancestors\",\n",
    "                           overwrite=True)"
   ]
  },
  {
   "cell_type": "code",
   "execution_count": null,
   "id": "2db12b01-efb5-4a05-a686-4a869c9c28a9",
   "metadata": {},
   "outputs": [],
   "source": [
    "topiary.generate_bootstraps(prev_calculation=\"04_reconciled-tree-ancestors/\",\n",
    "                            calc_dir=\"05_gene-tree-bootstraps\",\n",
    "                            overwrite=True)"
   ]
  },
  {
   "cell_type": "code",
   "execution_count": null,
   "id": "37284ae9-5773-40f6-88fc-c7cb1ab66a72",
   "metadata": {},
   "outputs": [],
   "source": [
    "topiary.reconcile(prev_calculation=\"05_gene-tree-bootstraps/\",\n",
    "                  calc_dir=\"06_reconciled-tree-bootstraps\",\n",
    "                  bootstrap=True,\n",
    "                  overwrite=True)"
   ]
  },
  {
   "cell_type": "code",
   "execution_count": null,
   "id": "be7ad873-dc08-4c3f-8a03-c15b287cb596",
   "metadata": {},
   "outputs": [],
   "source": [
    "topiary.reports.tree_report(tree_directory=\"06_reconciled-tree-bootstraps/\",\n",
    "                            output_directory=\"output\",\n",
    "                            ancestor_directory=\"04_reconciled-tree-ancestors/\",\n",
    "                            overwrite=True)\n"
   ]
  },
  {
   "cell_type": "code",
   "execution_count": null,
   "id": "8815fe7f-7e66-42d0-b0cb-deae75530640",
   "metadata": {},
   "outputs": [],
   "source": [
    "import os\n",
    "link = f\"file://{os.path.abspath('output/index.html')}\"\n",
    "print(\"Paste the following in a browser to see the output report\")\n",
    "print(link)"
   ]
  },
  {
   "cell_type": "markdown",
   "id": "d52ed1b2-d743-4dd1-b4fe-60d851bac5c4",
   "metadata": {},
   "source": [
    "### Toy bootstraps with only 4 pseudoreplicates"
   ]
  },
  {
   "cell_type": "code",
   "execution_count": null,
   "id": "3e77760d-beb4-4668-a1b2-48aeacb05a16",
   "metadata": {},
   "outputs": [],
   "source": [
    "topiary.reconcile(prev_calculation=\"05_gene-tree-bootstraps_toy/\",\n",
    "                  calc_dir=\"06_reconciled-tree-bootstraps_toy\",\n",
    "                  bootstrap=True,\n",
    "                  overwrite=True)"
   ]
  },
  {
   "cell_type": "code",
   "execution_count": null,
   "id": "fd014026-3e6e-44e9-bc79-8c41097de297",
   "metadata": {},
   "outputs": [],
   "source": []
  }
 ],
 "metadata": {
  "kernelspec": {
   "display_name": "Python 3 (ipykernel)",
   "language": "python",
   "name": "python3"
  },
  "language_info": {
   "codemirror_mode": {
    "name": "ipython",
    "version": 3
   },
   "file_extension": ".py",
   "mimetype": "text/x-python",
   "name": "python",
   "nbconvert_exporter": "python",
   "pygments_lexer": "ipython3",
   "version": "3.9.12"
  }
 },
 "nbformat": 4,
 "nbformat_minor": 5
}
