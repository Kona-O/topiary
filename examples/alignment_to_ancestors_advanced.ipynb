{
 "cells": [
  {
   "cell_type": "markdown",
   "id": "b5b16316",
   "metadata": {
    "colab_type": "text",
    "id": "view-in-github"
   },
   "source": [
    "<a href=\"https://colab.research.google.com/github/Kona-O/topiary/blob/main/alignment_to_ancestors_advanced.ipynb\" target=\"_parent\"><img src=\"https://colab.research.google.com/assets/colab-badge.svg\" alt=\"Open In Colab\"/></a>"
   ]
  },
  {
   "cell_type": "markdown",
   "id": "fa0432b2",
   "metadata": {
    "id": "fa0432b2"
   },
   "source": [
    "# Alignment to ancestors pipeline\n",
    "\n",
    "Given an alignment, find the best phylogenetic model, build a maximum-likelihood tree, reconcile this tree with the species tree, and then infer ancestral protein sequences."
   ]
  },
  {
   "cell_type": "code",
   "execution_count": null,
   "id": "62556191",
   "metadata": {
    "id": "62556191"
   },
   "outputs": [],
   "source": [
    "import topiary\n",
    "from topiary.raxml import RAXML_BINARY\n",
    "from topiary.generax import GENERAX_BINARY\n",
    "from topiary._private import installed\n",
    "from topiary._private import software_requirements\n",
    "from topiary._private import check\n",
    "from topiary._private.mpi import check_mpi_configuration\n",
    "from topiary._private import Supervisor\n",
    "\n",
    "import os\n",
    "import random\n",
    "import string\n",
    "import shutil\n",
    "import time"
   ]
  },
  {
   "cell_type": "markdown",
   "id": "CRjMaV-3ubHQ",
   "metadata": {
    "id": "CRjMaV-3ubHQ"
   },
   "source": [
    "The first code block below initiates the entire aligment_to_ancestors pipeline with default parameters set. Users can change the parameters here. Alternatively, the subsequent code blocks break this pipeline into its separate sections for making step-specific manipulations."
   ]
  },
  {
   "cell_type": "code",
   "execution_count": null,
   "id": "bjKC17tQuO3I",
   "metadata": {
    "id": "bjKC17tQuO3I"
   },
   "outputs": [],
   "source": [
    "# Pipeline that starts from an alignment, finds the best phylogenetic model,\n",
    "# builds a maximum likelihood tree, reconciles this tree with the species tree,\n",
    "# and then infers ancestral proteins.\n",
    "alignment_to_ancestors(df,\n",
    "                      out_dir=None,\n",
    "                      starting_tree=None,\n",
    "                      no_bootstrap=False,\n",
    "                      no_reconcile=False,\n",
    "                      no_horizontal_transfer=False,\n",
    "                      alt_cutoff=0.25,\n",
    "                      model_matrices=[\"cpREV\",\"Dayhoff\",\"DCMut\",\"DEN\",\"Blosum62\",\n",
    "                                      \"FLU\",\"HIVb\",\"HIVw\",\"JTT\",\"JTT-DCMut\",\"LG\",\n",
    "                                      \"mtART\",\"mtMAM\",\"mtREV\",\"mtZOA\",\"PMB\",\n",
    "                                      \"rtREV\",\"stmtREV\",\"VT\",\"WAG\"],\n",
    "                      model_rates=[\"\",\"G8\"],\n",
    "                      model_freqs=[\"\",\"FC\",\"FO\"],\n",
    "                      model_invariant=[\"\",\"IC\",\"IO\"],\n",
    "                      restart=False,\n",
    "                      overwrite=False,\n",
    "                      num_threads=-1,\n",
    "                      raxml_binary=RAXML_BINARY,\n",
    "                      generax_binary=GENERAX_BINARY)"
   ]
  },
  {
   "cell_type": "markdown",
   "id": "0c230c6e",
   "metadata": {
    "id": "0c230c6e"
   },
   "source": [
    "### Argument definitions and default parameters for reference:  \n",
    "---------- \n",
    "**df** : *pandas.DataFrame or str*\n",
    "<br> Topiary data frame or csv written out from topiary df.\n",
    "\n",
    "**out_dir** : *str, optional*\n",
    "<br> Output directory. If not specified, create an output directory with the format \"alignment_to_ancestors_{randomletters}\".\n",
    "\n",
    "**starting_tree** : *str, optional*\n",
    "<br> Tree in newick format. This will be used for the best model inference and starting tree for the maximum likelihood tree estimation. If not specified, the maximum parsimony tree is generated and used.\n",
    "\n",
    "**no_bootstrap** : *bool, default=False*\n",
    "<br> Do not do bootstrap replicates.\n",
    "\n",
    "**no_reconcile** : *bool, default=False*\n",
    "<br> Do not reconcile gene and species trees.\n",
    "\n",
    "**no_horizontal_transfer** : *bool, default=False*\n",
    "<br> Whether to allow horizontal transfer during reconciliation. Default is to allow transfer (UndatedDTL; recommended). If flat set, use UndatedDL model.\n",
    "\n",
    "**alt_cutoff** : *float, default=0.25*\n",
    "<br> Cutoff to use for altAll alternate ancestral protein sequence generation. Should be between 0 and 1.\n",
    "\n",
    "**model_matrices** : *list, default=[\"cpREV\",\"Dayhoff\",\"DCMut\",\"DEN\",\"Blosum62\",\"FLU\",\"HIVb\",\"HIVw\",\"JTT\",\"JTT-DCMut\",\"LG\",\"mtART\",\"mtMAM\",\"mtREV\",\"mtZOA\",\"PMB\",\"rtREV\",\"stmtREV\",\"VT\",\"WAG\"]*\n",
    "<br> List of model matrices to check. If calling from command line, these can be specified directly (:code:`--model_matrices LG ...`) or by specifying a file with models on each line (:code:`--model_matrices SOME_FILE`).\n",
    "\n",
    "**model_rates** : *list, default=[\"\",\"G8\"]*\n",
    "<br> Ways to treat model rates. If calling from command line, these can be specified directly (:code:`--model_rates G8 ...`) or by specifying a file with rates on each line (:code:`--model_rates SOME_FILE`).\n",
    "\n",
    "**model_freqs** : *list, default=[\"\",\"FC\",\"FO\"]*\n",
    "<br> Ways to treat model freqs. If calling from command line, these can be specified directly (:code:`--model_freqs FC FO ...`) or by specifying a file with freqs on each line (:code:`--model_freqs SOME_FILE`).\n",
    "\n",
    "**model_invariant** : *list, default=[\"\",\"IC\",\"IO\"]*\n",
    "<br> Ways to treat invariant alignment columns. If calling from command line, these can be specified directly (:code:`--model_invariant IC IO ...`) or by specifying a file with invariants on each line (:code:`--model_invariant SOME_FILE`).\n",
    "\n",
    "**restart** : *bool, default=False*\n",
    "<br> Restart job from where it stopped in output directory. incompatible with overwrite.\n",
    "\n",
    "**overwrite** : *bool, default=False*\n",
    "<br> Whether or not to overwrite existing output. incompatible with restart.\n",
    "\n",
    "**num_threads** : *int, default=-1*\n",
    "<br> Number of threads to use. if -1 use all available.\n",
    "\n",
    "**raxml_binary** : *str, optional*\n",
    "<br> RAxML binary to use.\n",
    "\n",
    "**generax_binary** : *str, optional*\n",
    "<br> What generax binary to use.\n",
    "\n",
    "---------- \n"
   ]
  },
  {
   "cell_type": "markdown",
   "id": "n74eN4wvxMz4",
   "metadata": {
    "id": "n74eN4wvxMz4"
   },
   "source": [
    "# 00. Infer the evolutionary model\n",
    "\n",
    "The first step in a maximum likelihood phylogenetic analysis is determining the maximum likelihood model of sequence evolution. This includes the matrix for amino acid substitution (i.e., LG, JTT, WAG, etc.), the stationary frequencies for that model, rate variation parameters (𝚪 distribution, rate categories, etc.), and the proportion of invariant sites. Topiary uses a conventional method to find the best model (Abascal F, 2005). It uses RAxML-NG to generate a maximum parsimony tree from the alignment. It then optimizes branch lengths and other parameters using all 360 combinations of these model parameters implemented in the computational library that underlies RAxML-NG and GeneRax. Finally, it ranks these models based on a corrected Akaike Information Criterion, which penalizes models with excess parameters to prevent overfitting.\n",
    "\n",
    "Although this protocol is done automatically, topiary returns a variety of statistics including AIC, AICc, and BIC to help users who want more control over model selection. Via the API, users can also specify a custom input tree or a subset of the models to test. (Note: as of the current version, topiary excludes the LG4M and LG4X models, as these cause GeneRax to crash during gene-species tree reconciliation).\n",
    "\n",
    "\n",
    "### Arguments definitions and default parameters used in this step:\n",
    "\n",
    "**df** : *pandas.DataFrame or str*\n",
    "<br> Topiary data frame or csv written out from topiary df.\n",
    "\n",
    "**starting_tree** : *str, optional*\n",
    "<br> Tree in newick format. This will be used for the best model inference and starting tree for the maximum likelihood tree estimation. If not specified, the maximum parsimony tree is generated and used.\n",
    "\n",
    "**model_matrices** : *list, default=[\"cpREV\",\"Dayhoff\",\"DCMut\",\"DEN\",\"Blosum62\",\"FLU\",\"HIVb\",\"HIVw\",\"JTT\",\"JTT-DCMut\",\"LG\",\"mtART\",\"mtMAM\",\"mtREV\",\"mtZOA\",\"PMB\",\"rtREV\",\"stmtREV\",\"VT\",\"WAG\"]*\n",
    "<br> List of model matrices to check. If calling from command line, these can be specified directly (:code:`--model_matrices LG ...`) or by specifying a file with models on each line (:code:`--model_matrices SOME_FILE`).\n",
    "\n",
    "**model_rates** : *list, default=[\"\",\"G8\"]*\n",
    "<br> Ways to treat model rates. If calling from command line, these can be specified directly (:code:`--model_rates G8 ...`) or by specifying a file with rates on each line (:code:`--model_rates SOME_FILE`).\n",
    "\n",
    "**model_freqs** : *list, default=[\"\",\"FC\",\"FO\"]*\n",
    "<br> Ways to treat model freqs. If calling from command line, these can be specified directly (:code:`--model_freqs FC FO ...`) or by specifying a file with freqs on each line (:code:`--model_freqs SOME_FILE`).\n",
    "\n",
    "**model_invariant** : *list, default=[\"\",\"IC\",\"IO\"]*\n",
    "<br> Ways to treat invariant alignment columns. If calling from command line, these can be specified directly (:code:`--model_invariant IC IO ...`) or by specifying a file with invariants on each line (:code:`--model_invariant SOME_FILE`).\n",
    "\n",
    "**calc_dir = output**\n",
    "<br> Put the results of this calculation into a directory called \"output.\" XX\n",
    "\n",
    "**num_threads** : *int, default=-1*\n",
    "<br> Number of threads to use. if -1 use all available.\n",
    "\n",
    "**raxml_binary** : *str, optional*\n",
    "<br> RAxML binary to use."
   ]
  },
  {
   "cell_type": "code",
   "execution_count": null,
   "id": "85b85b3a",
   "metadata": {
    "id": "85b85b3a"
   },
   "outputs": [],
   "source": [
    "# Find best phylogenetic model\n",
    "topiary.find_best_model(df,\n",
    "                        gene_tree=starting_tree,\n",
    "                        model_matrices=model_matrices,\n",
    "                        model_rates=model_rates,\n",
    "                        model_freqs=model_freqs,\n",
    "                        model_invariant=model_invariant,\n",
    "                        calc_dir=output,\n",
    "                        num_threads=num_threads,\n",
    "                        raxml_binary=raxml_binary)\n",
    "output = f\"00_find-model\""
   ]
  },
  {
   "cell_type": "markdown",
   "id": "k5_XZcDfyEjn",
   "metadata": {
    "id": "k5_XZcDfyEjn"
   },
   "source": [
    "# 01. Build a maximum likelihood gene tree\n",
    "\n",
    "Topiary next infers an ML gene tree using the inferred phylogenetic model with the default RAxML-NG settings for the “--search” protocol. This starts the inference from 10 random trees and 10 different parsimony trees. It then optimizes the tree topology using an SPR subtree cutoff of 1, with an automatically selected fast versus slow SPR radius. Branch lengths are optimized using the NR-FAST algorithm. The tree with the highest likelihood is selected and used for downstream analyses. Advanced users have full access to all RAxML-NG options XXX.\n",
    "\n",
    "### Arguments definitions and default parameters used in this step:\n",
    "\n",
    "**prev_calculation = prev_calculation**\n",
    "<br> Use the results of the previous calculation as input for this call. XX\n",
    "\n",
    "**calc_dir = output** # XX \"out_dir\" in def?\n",
    "<br> Put the results of this calculation into a directory called \"output.\" XX\n",
    "\n",
    "**num_threads** : *int, default=-1*\n",
    "<br> Number of threads to use. If -1 use all available.\n",
    "\n",
    "**raxml_binary** : *str, optional*\n",
    "<br> RAxML binary to use.\n",
    "\n",
    "**bootstrap** : *bool, default=False* # XX \"no_bootstrap\" in def?\n",
    "<br> Do bootstrap replicates if set to True."
   ]
  },
  {
   "cell_type": "code",
   "execution_count": null,
   "id": "i3ayAUxOyS8l",
   "metadata": {
    "id": "i3ayAUxOyS8l"
   },
   "outputs": [],
   "source": [
    "# Generate the maximum likelihood tree without bootstraps\n",
    "prev_calculation = output\n",
    "topiary.generate_ml_tree(prev_calculation=prev_calculation,\n",
    "                        calc_dir=output,\n",
    "                        num_threads=num_threads,\n",
    "                        raxml_binary=raxml_binary,\n",
    "                        bootstrap=False)\n",
    "output = f\"01_ml-tree\""
   ]
  },
  {
   "cell_type": "markdown",
   "id": "W5K1t6tDyu1V",
   "metadata": {
    "id": "W5K1t6tDyu1V"
   },
   "source": [
    "# 02. Reconcile gene and species trees\n",
    "\n",
    "The next step in the pipeline is to reconcile the gene tree with the species tree. This automatically roots the tree and has been shown to improve the quality of reconstructed sequences (Groussin M, 2015). For this purpose, we use GeneRax, a new high-performance program for reconciling gene and species trees. Unlike other, heuristic, methods, GeneRax uses an explicit likelihood framework (Morel B, 2020). The final tree is the maximum likelihood estimate for an evolutionary model that includes both sequence evolution (i.e., LG) and evolutionary events (speciation, duplication, loss, and lateral gene transfer).\n",
    "\n",
    "To do this, topiary uses the ML evolutionary model and ML gene tree inferred previously as inputs to GeneRax. For the rooted species tree, topiary automatically downloads the most recent synthetic tree from the Open Tree of Life (OTL) database (Rees J, 2017; Mctavish EJ, 2021). (Previous steps in the pipeline ensure that all sequences that have made it to this step come from species that are present in the OTL database). Any polytomies in this tree are resolved arbitrarily prior to the reconciliation inference. Topiary runs GeneRax with the default parameters (Morel B, 2020): topology optimization using rounds of subtree pruning and regrafting (SPR) with increasing radius (from 1 to 5) using the UndatedDTL reconciliation model. The UndatedDTL model accounts for duplication, transfer, and loss events. Topiary users can select the other implemented model— UndatedDL, which does not allow lateral transfer—however, the GeneRax authors strongly recommend using the UndatedDTL model.\n",
    "\n",
    "The resulting tree is a maximum likelihood reconciled gene-species tree with optimized branch lengths and nodes labeled with inferred evolutionary events (speciation, duplication, or transfer). GeneRax returns a variety of other outputs that are made accessible to topiary users, but only the reconciled tree is used further in the pipeline.\n",
    "\n",
    "### Arguments definitions and default parameters used in this step:\n",
    "\n",
    "**prev_calculation = prev_calculation**\n",
    "<br> Use the results of the previous calculation as input for this call. XX\n",
    "\n",
    "**calc_dir = output** # XX \"out_dir\" in def?\n",
    "<br> Put the results of this calculation into a directory called \"output.\" XX\n",
    "\n",
    "**allow_horizontal_transfer** : *bool, default=False* # XX \"no_horizon...\" in defintion?\n",
    "<br> Whether to allow horizontal transfer during reconciliation. Default is to allow transfer (UndatedDTL; recommended). If flat set, use UndatedDL model.\n",
    "\n",
    "**generax_binary** : *str, optional*\n",
    "<br> What generax binary to use.\n",
    "\n",
    "**num_threads** : *int, default=1*\n",
    "<br> Number of threads to use. if -1 use all available.\n",
    "\n",
    "**bootstrap** : *bool, default=False* # XX \"no_bootstrap\" in def?\n",
    "<br> Do bootstrap replicates if set to True."
   ]
  },
  {
   "cell_type": "code",
   "execution_count": null,
   "id": "BCLnm43_zGiE",
   "metadata": {
    "id": "BCLnm43_zGiE"
   },
   "outputs": [],
   "source": [
    "# Reconcile without bootstrap.\n",
    "prev_calculation = output\n",
    "\n",
    "topiary.reconcile(prev_calculation=prev_calculation,\n",
    "                  calc_dir=output,\n",
    "                  allow_horizontal_transfer=allow_horizontal_transfer,\n",
    "                  generax_binary=generax_binary,\n",
    "                  num_threads=1, #num_threads, XXX HACK HACK HACK\n",
    "                  bootstrap=False)\n",
    "\n",
    "output = f\"02_reconciliation\""
   ]
  },
  {
   "cell_type": "markdown",
   "id": "MwdIMR4dzZwc",
   "metadata": {
    "id": "MwdIMR4dzZwc"
   },
   "source": [
    "# 03. Reconstruct ancestors\n",
    "\n",
    "The next step is to infer sequences of ancestral nodes on the reconciled gene-species tree. For this, we use RAxML-NG, which implements a standard marginal ancestral reconstruction method (Yang Z, 1995). (This differs from previous versions of RAxML, which used a non- standard reconstruction method that was not comparable to other approaches). RAxML-NG finds the amino acid at each site in each ancestor that maximizes the likelihood of observing the sequence alignment given the tree, branch lengths, and phylogenetic model. This returns a matrix of posterior probabilities for each amino acid at each site in the alignment for each ancestral node. Topiary extracts the sequence of the maximum likelihood ancestor, as well as the so-called altAll version of the ancestor that incorporates alternate reconstructed amino acids at ambiguous positions. It uses a default cutoff of 0.25 to identify ambiguous sites (Eick GN, 2016); this can be set by the user.\n",
    "\n",
    "The evolutionary models used by RAxML-NG do not explicitly treat gaps; therefore, the first draft of the reconstructed ancestor will be ungapped. Topiary assigns gaps by treating them as characters during ancestral character reconstruction (ACR). For this purpose, topiary uses the DOWNPASS (Maddison DR, 2000) algorithm as implemented by the PastML package (Ishikawa SA, 2019). The final output for this step consists of the gapped sequences of the maximum likelihood and altAll ancestors for each node. These have associated statistical supports: posterior probabilities for each reconstructed amino acid and support for gaps. Topiary also puts out a variety of summary graphs to help select high quality sequences.\n",
    "\n",
    "\n",
    "### Arguments definitions and default parameters used in this step:\n",
    "\n",
    "**prev_calculation = prev_calculation**\n",
    "<br> Use the results of the previous calculation as input for this call. XX\n",
    "\n",
    "**calc_dir = output** # XX \"out_dir\" in def?\n",
    "<br> Put the results of this calculation into a directory called \"output.\" XX\n",
    "\n",
    "**num_threads** : *int, default=1*\n",
    "<br> Number of threads to use. if -1 use all available.\n",
    "\n",
    "**alt_cutoff** : *float, default=0.25*\n",
    "<br> Cutoff to use for altAll alternate ancestral protein sequence generation. Should be between 0 and 1."
   ]
  },
  {
   "cell_type": "code",
   "execution_count": null,
   "id": "b5k6-haGzu61",
   "metadata": {
    "id": "b5k6-haGzu61"
   },
   "outputs": [],
   "source": [
    "# Generate ancestors\n",
    "prev_calculation = output\n",
    "\n",
    "topiary.generate_ancestors(prev_calculation=prev_calculation,\n",
    "                          calc_dir=output,\n",
    "                          num_threads=num_threads,\n",
    "                          alt_cutoff=alt_cutoff)\n",
    "\n",
    "output = f\"03_ancestors\""
   ]
  },
  {
   "cell_type": "markdown",
   "id": "34iCsijWz9Qw",
   "metadata": {
    "id": "34iCsijWz9Qw"
   },
   "source": [
    "# 04. Branch supports\n",
    "\n",
    "To determine branch supports, topiary uses non-parametric bootstrapping (Felsenstein J, 1985). Briefly, RAxML-NG generates pseudoreplicate alignments by sampling columns, with replacement, from the input alignment. RAxML-NG then infers an evolutionary tree for each of these alignments. Topiary generates up to 1,000 bootstrap pseudoreplicates, using RAxML- NG’s automatic Extended Majority Rules (autoMRE) method with a cutoff of 0.03 to determine the exact number. The output from RAxML-NG is a collection of pseudoreplicate alignments and pseudoreplicate gene trees. Because we are reconstructing ancestors on the reconciled tree, we pass each pseudoreplicate alignment and gene tree into GeneRax for gene-species tree reconciliation, yielding a final collection of pseudoreplicate reconciled trees. Topiary then uses RAxML-NG to map these pseudoreplicate trees onto the ML reconciled tree as branch supports. Topiary also assesses convergence for the branch support estimate using the “--bsconverge” option.\n",
    "\n",
    "\n",
    "### Arguments definitions and default parameters used in this step:\n",
    "\n",
    "**prev_calculation = prev_calculation**\n",
    "<br> Use the results of the previous calculation as input for this call. XX\n",
    "\n",
    "**calc_dir = output** # XX \"out_dir\" in def?\n",
    "<br> Put the results of this calculation into a directory called \"output.\" XX\n",
    "\n",
    "**num_threads** : *int, default=1*\n",
    "<br> Number of threads to use. if -1 use all available.\n",
    "\n",
    "**raxml_binary** : *str, optional*\n",
    "<br> RAxML binary to use."
   ]
  },
  {
   "cell_type": "code",
   "execution_count": null,
   "id": "SybysyH90KRG",
   "metadata": {
    "id": "SybysyH90KRG"
   },
   "outputs": [],
   "source": [
    "# Generate bootstrap replicates for the tree\n",
    "prev_calculation = output\n",
    "\n",
    "topiary.generate_bootstraps(prev_calculation=prev_calculation,\n",
    "                            calc_dir=output,\n",
    "                            num_threads=num_threads,\n",
    "                            raxml_binary=raxml_binary)\n",
    "\n",
    "output = f\"04_bootstraps\""
   ]
  }
 ],
 "metadata": {
  "colab": {
   "collapsed_sections": [],
   "include_colab_link": true,
   "provenance": []
  },
  "kernelspec": {
   "display_name": "Python 3 (ipykernel)",
   "language": "python",
   "name": "python3"
  },
  "language_info": {
   "codemirror_mode": {
    "name": "ipython",
    "version": 3
   },
   "file_extension": ".py",
   "mimetype": "text/x-python",
   "name": "python",
   "nbconvert_exporter": "python",
   "pygments_lexer": "ipython3",
   "version": "3.9.12"
  }
 },
 "nbformat": 4,
 "nbformat_minor": 5
}
